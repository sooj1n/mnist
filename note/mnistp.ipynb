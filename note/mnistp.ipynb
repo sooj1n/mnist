{
 "cells": [
  {
   "cell_type": "code",
   "execution_count": 1,
   "id": "88f2d2df-aeaa-4307-b9e9-eb7cb945924c",
   "metadata": {},
   "outputs": [
    {
     "name": "stderr",
     "output_type": "stream",
     "text": [
      "2024-09-24 15:39:42.339021: I tensorflow/core/util/port.cc:153] oneDNN custom operations are on. You may see slightly different numerical results due to floating-point round-off errors from different computation orders. To turn them off, set the environment variable `TF_ENABLE_ONEDNN_OPTS=0`.\n",
      "2024-09-24 15:39:42.354308: I external/local_xla/xla/tsl/cuda/cudart_stub.cc:32] Could not find cuda drivers on your machine, GPU will not be used.\n",
      "2024-09-24 15:39:42.445865: I external/local_xla/xla/tsl/cuda/cudart_stub.cc:32] Could not find cuda drivers on your machine, GPU will not be used.\n",
      "2024-09-24 15:39:42.490955: E external/local_xla/xla/stream_executor/cuda/cuda_fft.cc:485] Unable to register cuFFT factory: Attempting to register factory for plugin cuFFT when one has already been registered\n",
      "2024-09-24 15:39:42.520614: E external/local_xla/xla/stream_executor/cuda/cuda_dnn.cc:8454] Unable to register cuDNN factory: Attempting to register factory for plugin cuDNN when one has already been registered\n",
      "2024-09-24 15:39:42.535153: E external/local_xla/xla/stream_executor/cuda/cuda_blas.cc:1452] Unable to register cuBLAS factory: Attempting to register factory for plugin cuBLAS when one has already been registered\n",
      "2024-09-24 15:39:42.619503: I tensorflow/core/platform/cpu_feature_guard.cc:210] This TensorFlow binary is optimized to use available CPU instructions in performance-critical operations.\n",
      "To enable the following instructions: AVX2 AVX512F AVX512_VNNI FMA, in other operations, rebuild TensorFlow with the appropriate compiler flags.\n",
      "2024-09-24 15:39:44.071635: W tensorflow/compiler/tf2tensorrt/utils/py_utils.cc:38] TF-TRT Warning: Could not find TensorRT\n"
     ]
    }
   ],
   "source": [
    "import numpy as np\n",
    "from PIL import Image\n",
    "from keras.models import load_model"
   ]
  },
  {
   "cell_type": "code",
   "execution_count": 2,
   "id": "e626132a-e507-4ae7-81f0-40b0e30b2a84",
   "metadata": {},
   "outputs": [],
   "source": [
    "# 모델 로드\n",
    "model = load_model('mnist240924.keras')  # 학습된 모델 파일 경로"
   ]
  },
  {
   "cell_type": "code",
   "execution_count": 3,
   "id": "32bb64c1-92d3-4b0b-b384-97f53cef416c",
   "metadata": {},
   "outputs": [],
   "source": [
    "# 사용자 이미지 불러오기 및 전처리\n",
    "def preprocess_image(image_path):\n",
    "    img = Image.open(image_path).convert('L')  # 흑백 이미지로 변환\n",
    "    img = img.resize((28, 28))  # 크기 조정\n",
    "\n",
    "    # 흑백 반전\n",
    "    # img = 255 - np.array(img)  # 흑백 반전\n",
    "    img = np.array(img)\n",
    "    \n",
    "    img = img.reshape(1, 28, 28, 1)  # 모델 입력 형태에 맞게 변형\n",
    "    img = img / 255.0  # 정규화\n",
    "    return img\n",
    "\n",
    "# 예측\n",
    "def predict_digit(image_path):\n",
    "    img = preprocess_image(image_path)\n",
    "    prediction = model.predict(img)\n",
    "    digit = np.argmax(prediction)\n",
    "    return digit\n"
   ]
  },
  {
   "cell_type": "code",
   "execution_count": 4,
   "id": "380fe852-db9b-4cc8-b897-e108aa6be053",
   "metadata": {},
   "outputs": [],
   "source": [
    "from tensorflow.keras.datasets import mnist\n",
    "import os"
   ]
  },
  {
   "cell_type": "code",
   "execution_count": 5,
   "id": "19bb85db-e112-4c80-b8e2-8a32a173c0d6",
   "metadata": {},
   "outputs": [],
   "source": [
    "(train_images, train_lables), (test_images, test_lables) = mnist.load_data()"
   ]
  },
  {
   "cell_type": "code",
   "execution_count": 6,
   "id": "80c27f79-5a80-481e-b488-b42d1f468247",
   "metadata": {},
   "outputs": [
    {
     "data": {
      "text/plain": [
       "(60000, 28, 28)"
      ]
     },
     "execution_count": 6,
     "metadata": {},
     "output_type": "execute_result"
    }
   ],
   "source": [
    "train_images.shape"
   ]
  },
  {
   "cell_type": "code",
   "execution_count": 7,
   "id": "6ce1e996-e6dc-4f9e-a287-2acafc9ca3d9",
   "metadata": {},
   "outputs": [
    {
     "name": "stdout",
     "output_type": "stream",
     "text": [
      "  0   0   0   0   0   0   0   0   0   0   0   0   0   0   0   0   0   0   0   0   0   0   0   0   0   0   0   0 \n",
      "  0   0   0   0   0   0   0   0   0   0   0   0   0   0   0   0   0   0   0   0   0   0   0   0   0   0   0   0 \n",
      "  0   0   0   0   0   0   0   0   0   0   0   0   0   0   0   0   0   0   0   0   0   0   0   0   0   0   0   0 \n",
      "  0   0   0   0   0   0   0   0   0   0   0   0   0   0   0   0   0   0   0   0   0   0   0   0   0   0   0   0 \n",
      "  0   0   0   0   0   0   0   0   0   0   0   0   0   0   0   0   0   0   0   0   0   0   0   0   0   0   0   0 \n",
      "  0   0   0   0   0   0   0   0   0   0   0   0   3  18  18  18 126 136 175  26 166 255 247 127   0   0   0   0 \n",
      "  0   0   0   0   0   0   0   0  30  36  94 154 170 253 253 253 253 253 225 172 253 242 195  64   0   0   0   0 \n",
      "  0   0   0   0   0   0   0  49 238 253 253 253 253 253 253 253 253 251  93  82  82  56  39   0   0   0   0   0 \n",
      "  0   0   0   0   0   0   0  18 219 253 253 253 253 253 198 182 247 241   0   0   0   0   0   0   0   0   0   0 \n",
      "  0   0   0   0   0   0   0   0  80 156 107 253 253 205  11   0  43 154   0   0   0   0   0   0   0   0   0   0 \n",
      "  0   0   0   0   0   0   0   0   0  14   1 154 253  90   0   0   0   0   0   0   0   0   0   0   0   0   0   0 \n",
      "  0   0   0   0   0   0   0   0   0   0   0 139 253 190   2   0   0   0   0   0   0   0   0   0   0   0   0   0 \n",
      "  0   0   0   0   0   0   0   0   0   0   0  11 190 253  70   0   0   0   0   0   0   0   0   0   0   0   0   0 \n",
      "  0   0   0   0   0   0   0   0   0   0   0   0  35 241 225 160 108   1   0   0   0   0   0   0   0   0   0   0 \n",
      "  0   0   0   0   0   0   0   0   0   0   0   0   0  81 240 253 253 119  25   0   0   0   0   0   0   0   0   0 \n",
      "  0   0   0   0   0   0   0   0   0   0   0   0   0   0  45 186 253 253 150  27   0   0   0   0   0   0   0   0 \n",
      "  0   0   0   0   0   0   0   0   0   0   0   0   0   0   0  16  93 252 253 187   0   0   0   0   0   0   0   0 \n",
      "  0   0   0   0   0   0   0   0   0   0   0   0   0   0   0   0   0 249 253 249  64   0   0   0   0   0   0   0 \n",
      "  0   0   0   0   0   0   0   0   0   0   0   0   0   0  46 130 183 253 253 207   2   0   0   0   0   0   0   0 \n",
      "  0   0   0   0   0   0   0   0   0   0   0   0  39 148 229 253 253 253 250 182   0   0   0   0   0   0   0   0 \n",
      "  0   0   0   0   0   0   0   0   0   0  24 114 221 253 253 253 253 201  78   0   0   0   0   0   0   0   0   0 \n",
      "  0   0   0   0   0   0   0   0  23  66 213 253 253 253 253 198  81   2   0   0   0   0   0   0   0   0   0   0 \n",
      "  0   0   0   0   0   0  18 171 219 253 253 253 253 195  80   9   0   0   0   0   0   0   0   0   0   0   0   0 \n",
      "  0   0   0   0  55 172 226 253 253 253 253 244 133  11   0   0   0   0   0   0   0   0   0   0   0   0   0   0 \n",
      "  0   0   0   0 136 253 253 253 212 135 132  16   0   0   0   0   0   0   0   0   0   0   0   0   0   0   0   0 \n",
      "  0   0   0   0   0   0   0   0   0   0   0   0   0   0   0   0   0   0   0   0   0   0   0   0   0   0   0   0 \n",
      "  0   0   0   0   0   0   0   0   0   0   0   0   0   0   0   0   0   0   0   0   0   0   0   0   0   0   0   0 \n",
      "  0   0   0   0   0   0   0   0   0   0   0   0   0   0   0   0   0   0   0   0   0   0   0   0   0   0   0   0 \n"
     ]
    }
   ],
   "source": [
    "for x in train_images[0]:\n",
    "    for i in x:\n",
    "        print('{:3} '.format(i), end='')\n",
    "    print()"
   ]
  },
  {
   "cell_type": "code",
   "execution_count": 8,
   "id": "db5277b1-a072-4d14-86c5-8f418d885076",
   "metadata": {},
   "outputs": [
    {
     "data": {
      "text/plain": [
       "5"
      ]
     },
     "execution_count": 8,
     "metadata": {},
     "output_type": "execute_result"
    }
   ],
   "source": [
    "train_lables[0]"
   ]
  },
  {
   "cell_type": "code",
   "execution_count": 9,
   "id": "37df33e7-5502-47bb-ae36-ca3d30bcc2e0",
   "metadata": {},
   "outputs": [],
   "source": [
    "save_dir = 'train_img'\n",
    "os.makedirs(save_dir, exist_ok=True)\n",
    "\n",
    "def save_images(images, labels):\n",
    "    for i, (imga, label) in enumerate(zip(images, labels)):\n",
    "        img = Image.fromarray(imga)\n",
    "        name = f'{label}_{i}.png'\n",
    "        img.save(os.path.join(save_dir,name))\n",
    "\n",
    "save_images(train_images, train_lables)"
   ]
  },
  {
   "cell_type": "code",
   "execution_count": 10,
   "id": "baf1264e-a581-4df6-a629-8ca4adb4ef98",
   "metadata": {},
   "outputs": [
    {
     "name": "stdout",
     "output_type": "stream",
     "text": [
      "\u001b[1m1/1\u001b[0m \u001b[32m━━━━━━━━━━━━━━━━━━━━\u001b[0m\u001b[37m\u001b[0m \u001b[1m0s\u001b[0m 158ms/step\n",
      "예측된 숫자:  6\n"
     ]
    }
   ],
   "source": [
    "image_path = '/home/sujin/code/mnist/note/train_img/6_18517.png'\n",
    "\n",
    "predicted_digit = predict_digit(image_path)\n",
    "print('예측된 숫자: ', predicted_digit)"
   ]
  },
  {
   "cell_type": "code",
   "execution_count": 11,
   "id": "b8c6beb7-5ec7-44ca-ab6e-db96d903a535",
   "metadata": {},
   "outputs": [
    {
     "name": "stdout",
     "output_type": "stream",
     "text": [
      "\u001b[1m1/1\u001b[0m \u001b[32m━━━━━━━━━━━━━━━━━━━━\u001b[0m\u001b[37m\u001b[0m \u001b[1m0s\u001b[0m 17ms/step\n",
      "예측된 숫자:  3\n"
     ]
    }
   ],
   "source": [
    "image_path = '/home/sujin/code/mnist/note/train_img/3_49321.png'\n",
    "\n",
    "predicted_digit = predict_digit(image_path)\n",
    "print('예측된 숫자: ', predicted_digit)"
   ]
  },
  {
   "cell_type": "code",
   "execution_count": 14,
   "id": "e99b068c-520c-468e-9bfa-f14fa5a319cd",
   "metadata": {},
   "outputs": [
    {
     "name": "stdout",
     "output_type": "stream",
     "text": [
      "\u001b[1m1/1\u001b[0m \u001b[32m━━━━━━━━━━━━━━━━━━━━\u001b[0m\u001b[37m\u001b[0m \u001b[1m0s\u001b[0m 47ms/step\n",
      "예측된 숫자:  0\n"
     ]
    }
   ],
   "source": [
    "\n",
    "image_path = '/home/sujin/code/mnist/note/1.jpeg'\n",
    "\n",
    "predicted_digit = predict_digit(image_path)\n",
    "print('예측된 숫자: ', predicted_digit)"
   ]
  },
  {
   "cell_type": "code",
   "execution_count": null,
   "id": "e1d954ca-5c35-4ecb-ad57-6359d6b45bfe",
   "metadata": {},
   "outputs": [],
   "source": []
  }
 ],
 "metadata": {
  "kernelspec": {
   "display_name": "Python 3 (ipykernel)",
   "language": "python",
   "name": "python3"
  },
  "language_info": {
   "codemirror_mode": {
    "name": "ipython",
    "version": 3
   },
   "file_extension": ".py",
   "mimetype": "text/x-python",
   "name": "python",
   "nbconvert_exporter": "python",
   "pygments_lexer": "ipython3",
   "version": "3.11.9"
  }
 },
 "nbformat": 4,
 "nbformat_minor": 5
}
